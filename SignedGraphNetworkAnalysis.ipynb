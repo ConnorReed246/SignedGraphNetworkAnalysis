{
 "cells": [
  {
   "cell_type": "markdown",
   "metadata": {},
   "source": [
    "# Signed Graph Network Analysis"
   ]
  },
  {
   "cell_type": "markdown",
   "metadata": {},
   "source": [
    "## Setup"
   ]
  },
  {
   "cell_type": "code",
   "execution_count": 1,
   "metadata": {},
   "outputs": [],
   "source": [
    "import matplotlib.pyplot as plt\n",
    "import networkx as nx\n",
    "import pandas as pd\n",
    "import numpy as np"
   ]
  },
  {
   "cell_type": "markdown",
   "metadata": {},
   "source": [
    "## Analysis"
   ]
  },
  {
   "cell_type": "markdown",
   "metadata": {},
   "source": [
    "### A)"
   ]
  },
  {
   "cell_type": "code",
   "execution_count": 2,
   "metadata": {},
   "outputs": [],
   "source": [
    "# Import the weighted graph using the specified nodes in the first and second columns. The weight is specified in the third column. \n",
    "# Generate an adjacency matrix and save it to an Excel file."
   ]
  },
  {
   "cell_type": "code",
   "execution_count": 3,
   "metadata": {},
   "outputs": [
    {
     "data": {
      "text/html": [
       "<div>\n",
       "<style scoped>\n",
       "    .dataframe tbody tr th:only-of-type {\n",
       "        vertical-align: middle;\n",
       "    }\n",
       "\n",
       "    .dataframe tbody tr th {\n",
       "        vertical-align: top;\n",
       "    }\n",
       "\n",
       "    .dataframe thead th {\n",
       "        text-align: right;\n",
       "    }\n",
       "</style>\n",
       "<table border=\"1\" class=\"dataframe\">\n",
       "  <thead>\n",
       "    <tr style=\"text-align: right;\">\n",
       "      <th></th>\n",
       "      <th>source</th>\n",
       "      <th>target</th>\n",
       "      <th>weight</th>\n",
       "      <th>time</th>\n",
       "    </tr>\n",
       "  </thead>\n",
       "  <tbody>\n",
       "    <tr>\n",
       "      <th>0</th>\n",
       "      <td>7188</td>\n",
       "      <td>1</td>\n",
       "      <td>10</td>\n",
       "      <td>1407470400</td>\n",
       "    </tr>\n",
       "    <tr>\n",
       "      <th>1</th>\n",
       "      <td>430</td>\n",
       "      <td>1</td>\n",
       "      <td>10</td>\n",
       "      <td>1376539200</td>\n",
       "    </tr>\n",
       "    <tr>\n",
       "      <th>2</th>\n",
       "      <td>3134</td>\n",
       "      <td>1</td>\n",
       "      <td>10</td>\n",
       "      <td>1369713600</td>\n",
       "    </tr>\n",
       "    <tr>\n",
       "      <th>3</th>\n",
       "      <td>3026</td>\n",
       "      <td>1</td>\n",
       "      <td>10</td>\n",
       "      <td>1350014400</td>\n",
       "    </tr>\n",
       "    <tr>\n",
       "      <th>4</th>\n",
       "      <td>3010</td>\n",
       "      <td>1</td>\n",
       "      <td>10</td>\n",
       "      <td>1347854400</td>\n",
       "    </tr>\n",
       "    <tr>\n",
       "      <th>...</th>\n",
       "      <td>...</td>\n",
       "      <td>...</td>\n",
       "      <td>...</td>\n",
       "      <td>...</td>\n",
       "    </tr>\n",
       "    <tr>\n",
       "      <th>24181</th>\n",
       "      <td>7604</td>\n",
       "      <td>7601</td>\n",
       "      <td>10</td>\n",
       "      <td>1364270400</td>\n",
       "    </tr>\n",
       "    <tr>\n",
       "      <th>24182</th>\n",
       "      <td>7601</td>\n",
       "      <td>7604</td>\n",
       "      <td>10</td>\n",
       "      <td>1364270400</td>\n",
       "    </tr>\n",
       "    <tr>\n",
       "      <th>24183</th>\n",
       "      <td>7604</td>\n",
       "      <td>7602</td>\n",
       "      <td>10</td>\n",
       "      <td>1364270400</td>\n",
       "    </tr>\n",
       "    <tr>\n",
       "      <th>24184</th>\n",
       "      <td>7602</td>\n",
       "      <td>7604</td>\n",
       "      <td>10</td>\n",
       "      <td>1364270400</td>\n",
       "    </tr>\n",
       "    <tr>\n",
       "      <th>24185</th>\n",
       "      <td>7604</td>\n",
       "      <td>7603</td>\n",
       "      <td>-10</td>\n",
       "      <td>1364270400</td>\n",
       "    </tr>\n",
       "  </tbody>\n",
       "</table>\n",
       "<p>24186 rows × 4 columns</p>\n",
       "</div>"
      ],
      "text/plain": [
       "       source  target  weight        time\n",
       "0        7188       1      10  1407470400\n",
       "1         430       1      10  1376539200\n",
       "2        3134       1      10  1369713600\n",
       "3        3026       1      10  1350014400\n",
       "4        3010       1      10  1347854400\n",
       "...       ...     ...     ...         ...\n",
       "24181    7604    7601      10  1364270400\n",
       "24182    7601    7604      10  1364270400\n",
       "24183    7604    7602      10  1364270400\n",
       "24184    7602    7604      10  1364270400\n",
       "24185    7604    7603     -10  1364270400\n",
       "\n",
       "[24186 rows x 4 columns]"
      ]
     },
     "execution_count": 3,
     "metadata": {},
     "output_type": "execute_result"
    }
   ],
   "source": [
    "graph_df = pd.read_csv(\"data/soc-sign-bitcoinalpha.csv\", header=None)\n",
    "graph_df.columns = [\"source\", \"target\", \"weight\", \"time\"]\n",
    "G = nx.from_pandas_edgelist(graph_df, source=\"source\", target=\"target\", edge_attr=\"weight\", create_using=nx.DiGraph)\n",
    "graph_df"
   ]
  },
  {
   "cell_type": "code",
   "execution_count": 7,
   "metadata": {},
   "outputs": [
    {
     "name": "stdout",
     "output_type": "stream",
     "text": [
      "Shape of the adjacency matrix:  (3783, 3783)\n"
     ]
    }
   ],
   "source": [
    "adjacency_matrix = nx.adjacency_matrix(G).todense()\n",
    "print(\"Shape of the adjacency matrix: \", adjacency_matrix.shape)\n",
    "\n",
    "#save to excel file\n",
    "adjacency_df = pd.DataFrame(adjacency_matrix)\n",
    "\n",
    "#adjacency_df.to_excel(\"data/adjacency_matrix.csv\", index=False) -> incredibly slow, therefore chose to save as csv\n",
    "adjacency_df.to_csv(\"data/adjacency_matrix.csv\", index=False, header=False)"
   ]
  },
  {
   "cell_type": "markdown",
   "metadata": {},
   "source": [
    "### B)"
   ]
  },
  {
   "cell_type": "code",
   "execution_count": 10,
   "metadata": {},
   "outputs": [],
   "source": [
    "# Using NetworkX, plot the in/out-degree distribution\n",
    "# and fit the power-law distribution. Use curve fitting and\n",
    "# confidence bounds of the curve fit library and evaluate\n",
    "# if the power law distribution can be fit with 80%\n",
    "# confidence. Additionally, calculate the average clustering\n",
    "# coefficient and diameter."
   ]
  },
  {
   "cell_type": "code",
   "execution_count": 23,
   "metadata": {},
   "outputs": [],
   "source": [
    "def calculate_degrees(degree_dict):\n",
    "    degree_sequence = sorted([d for n, d in degree_dict], reverse=True)\n",
    "    degree_count = {}\n",
    "    for degree in degree_sequence:\n",
    "        if degree in degree_count:\n",
    "            degree_count[degree] += 1\n",
    "        else:\n",
    "            degree_count[degree] = 1\n",
    "    return zip(*degree_count.items())"
   ]
  },
  {
   "cell_type": "code",
   "execution_count": 30,
   "metadata": {},
   "outputs": [
    {
     "data": {
      "image/png": "[encoded data removed]",
      "text/plain": [
       "<Figure size 640x480 with 1 Axes>"
      ]
     },
     "metadata": {},
     "output_type": "display_data"
    }
   ],
   "source": [
    "degree, count = calculate_degrees(G.in_degree())\n",
    "plt.bar(degree, count, color='b')\n",
    "plt.title(\"In-degree distribution\")\n",
    "plt.xlabel(\"Degree\")\n",
    "plt.ylabel(\"Count\")\n",
    "plt.xlim(0, 100)\n",
    "plt.ylim(0, 1500)\n",
    "plt.savefig(\"plots/B_in_degree_distribution.pdf\")\n",
    "plt.show()"
   ]
  },
  {
   "cell_type": "code",
   "execution_count": 29,
   "metadata": {},
   "outputs": [
    {
     "data": {
      "image/png": "[encoded data removed]",
      "text/plain": [
       "<Figure size 640x480 with 1 Axes>"
      ]
     },
     "metadata": {},
     "output_type": "display_data"
    }
   ],
   "source": [
    "degree, count = calculate_degrees(G.out_degree())\n",
    "plt.bar(degree, count, color='b')\n",
    "plt.title(\"Out-degree distribution\")\n",
    "plt.xlabel(\"Degree\")\n",
    "plt.ylabel(\"Count\")\n",
    "plt.xlim(0, 100)\n",
    "plt.ylim(0, 1200)\n",
    "plt.savefig(\"plots/B_out_degree_distribution.pdf\")\n",
    "plt.show()"
   ]
  },
  {
   "cell_type": "code",
   "execution_count": 31,
   "metadata": {},
   "outputs": [],
   "source": [
    "# Use curve fitting and\n",
    "# confidence bounds of the curve fit library and evaluate\n",
    "# if the power law distribution can be fit with 80%\n",
    "# confidence\n",
    "\n",
    "from scipy.optimize import curve_fit\n",
    "from scipy.stats import powerlaw\n",
    "\n",
    "\n",
    "\n"
   ]
  },
  {
   "cell_type": "code",
   "execution_count": null,
   "metadata": {},
   "outputs": [],
   "source": []
  }
 ],
 "metadata": {
  "kernelspec": {
   "display_name": "SN",
   "language": "python",
   "name": "python3"
  },
  "language_info": {
   "codemirror_mode": {
    "name": "ipython",
    "version": 3
   },
   "file_extension": ".py",
   "mimetype": "text/x-python",
   "name": "python",
   "nbconvert_exporter": "python",
   "pygments_lexer": "ipython3",
   "version": "3.9.18"
  }
 },
 "nbformat": 4,
 "nbformat_minor": 2
}
