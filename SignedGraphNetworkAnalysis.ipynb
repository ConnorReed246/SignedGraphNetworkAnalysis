{
 "cells": [
  {
   "cell_type": "markdown",
   "metadata": {},
   "source": [
    "# Signed Graph Network Analysis"
   ]
  },
  {
   "cell_type": "markdown",
   "metadata": {},
   "source": [
    "## Setup"
   ]
  },
  {
   "cell_type": "code",
   "execution_count": 6,
   "metadata": {},
   "outputs": [],
   "source": [
    "import matplotlib.pyplot as plt\n",
    "import networkx as nx\n",
    "import numpy as np"
   ]
  },
  {
   "cell_type": "code",
   "execution_count": 13,
   "metadata": {},
   "outputs": [
    {
     "data": {
      "text/html": [
       "<div>\n",
       "<style scoped>\n",
       "    .dataframe tbody tr th:only-of-type {\n",
       "        vertical-align: middle;\n",
       "    }\n",
       "\n",
       "    .dataframe tbody tr th {\n",
       "        vertical-align: top;\n",
       "    }\n",
       "\n",
       "    .dataframe thead th {\n",
       "        text-align: right;\n",
       "    }\n",
       "</style>\n",
       "<table border=\"1\" class=\"dataframe\">\n",
       "  <thead>\n",
       "    <tr style=\"text-align: right;\">\n",
       "      <th></th>\n",
       "      <th>source</th>\n",
       "      <th>target</th>\n",
       "      <th>weight</th>\n",
       "      <th>time</th>\n",
       "    </tr>\n",
       "  </thead>\n",
       "  <tbody>\n",
       "    <tr>\n",
       "      <th>0</th>\n",
       "      <td>7188</td>\n",
       "      <td>1</td>\n",
       "      <td>10</td>\n",
       "      <td>1407470400</td>\n",
       "    </tr>\n",
       "    <tr>\n",
       "      <th>1</th>\n",
       "      <td>430</td>\n",
       "      <td>1</td>\n",
       "      <td>10</td>\n",
       "      <td>1376539200</td>\n",
       "    </tr>\n",
       "    <tr>\n",
       "      <th>2</th>\n",
       "      <td>3134</td>\n",
       "      <td>1</td>\n",
       "      <td>10</td>\n",
       "      <td>1369713600</td>\n",
       "    </tr>\n",
       "    <tr>\n",
       "      <th>3</th>\n",
       "      <td>3026</td>\n",
       "      <td>1</td>\n",
       "      <td>10</td>\n",
       "      <td>1350014400</td>\n",
       "    </tr>\n",
       "    <tr>\n",
       "      <th>4</th>\n",
       "      <td>3010</td>\n",
       "      <td>1</td>\n",
       "      <td>10</td>\n",
       "      <td>1347854400</td>\n",
       "    </tr>\n",
       "    <tr>\n",
       "      <th>...</th>\n",
       "      <td>...</td>\n",
       "      <td>...</td>\n",
       "      <td>...</td>\n",
       "      <td>...</td>\n",
       "    </tr>\n",
       "    <tr>\n",
       "      <th>24181</th>\n",
       "      <td>7604</td>\n",
       "      <td>7601</td>\n",
       "      <td>10</td>\n",
       "      <td>1364270400</td>\n",
       "    </tr>\n",
       "    <tr>\n",
       "      <th>24182</th>\n",
       "      <td>7601</td>\n",
       "      <td>7604</td>\n",
       "      <td>10</td>\n",
       "      <td>1364270400</td>\n",
       "    </tr>\n",
       "    <tr>\n",
       "      <th>24183</th>\n",
       "      <td>7604</td>\n",
       "      <td>7602</td>\n",
       "      <td>10</td>\n",
       "      <td>1364270400</td>\n",
       "    </tr>\n",
       "    <tr>\n",
       "      <th>24184</th>\n",
       "      <td>7602</td>\n",
       "      <td>7604</td>\n",
       "      <td>10</td>\n",
       "      <td>1364270400</td>\n",
       "    </tr>\n",
       "    <tr>\n",
       "      <th>24185</th>\n",
       "      <td>7604</td>\n",
       "      <td>7603</td>\n",
       "      <td>-10</td>\n",
       "      <td>1364270400</td>\n",
       "    </tr>\n",
       "  </tbody>\n",
       "</table>\n",
       "<p>24186 rows × 4 columns</p>\n",
       "</div>"
      ],
      "text/plain": [
       "       source  target  weight        time\n",
       "0        7188       1      10  1407470400\n",
       "1         430       1      10  1376539200\n",
       "2        3134       1      10  1369713600\n",
       "3        3026       1      10  1350014400\n",
       "4        3010       1      10  1347854400\n",
       "...       ...     ...     ...         ...\n",
       "24181    7604    7601      10  1364270400\n",
       "24182    7601    7604      10  1364270400\n",
       "24183    7604    7602      10  1364270400\n",
       "24184    7602    7604      10  1364270400\n",
       "24185    7604    7603     -10  1364270400\n",
       "\n",
       "[24186 rows x 4 columns]"
      ]
     },
     "execution_count": 13,
     "metadata": {},
     "output_type": "execute_result"
    }
   ],
   "source": [
    "graph_df = pd.read_csv(\"data/soc-sign-bitcoinalpha.csv\", header=None)\n",
    "graph_df.columns = [\"source\", \"target\", \"weight\", \"time\"]\n",
    "graph_df"
   ]
  },
  {
   "cell_type": "code",
   "execution_count": 15,
   "metadata": {},
   "outputs": [],
   "source": [
    "# read weighted graph from csv file\n",
    "G = nx.from_pandas_edgelist(graph_df, source=\"source\", target=\"target\", edge_attr=\"weight\", create_using=nx.DiGraph)"
   ]
  },
  {
   "cell_type": "markdown",
   "metadata": {},
   "source": [
    "## Analysis"
   ]
  },
  {
   "cell_type": "markdown",
   "metadata": {},
   "source": []
  }
 ],
 "metadata": {
  "kernelspec": {
   "display_name": "SN",
   "language": "python",
   "name": "python3"
  },
  "language_info": {
   "codemirror_mode": {
    "name": "ipython",
    "version": 3
   },
   "file_extension": ".py",
   "mimetype": "text/x-python",
   "name": "python",
   "nbconvert_exporter": "python",
   "pygments_lexer": "ipython3",
   "version": "3.9.18"
  }
 },
 "nbformat": 4,
 "nbformat_minor": 2
}
